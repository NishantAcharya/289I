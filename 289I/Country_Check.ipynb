{
 "cells": [
  {
   "cell_type": "code",
   "execution_count": 1,
   "id": "76ccb28f",
   "metadata": {},
   "outputs": [],
   "source": [
    "import pandas as pd\n",
    "import numpy as np\n",
    "import geoip2.database"
   ]
  },
  {
   "cell_type": "code",
   "execution_count": 2,
   "id": "7223ac56",
   "metadata": {},
   "outputs": [],
   "source": [
    "#Uploading the two databases\n",
    "AS_IXP = pd.read_csv('/Users/nishantacharya/Downloads/IXP_ASN.csv')"
   ]
  },
  {
   "cell_type": "code",
   "execution_count": 3,
   "id": "a1cc97f3",
   "metadata": {},
   "outputs": [
    {
     "data": {
      "text/plain": [
       "0        6775\n",
       "1        6823\n",
       "2        6939\n",
       "3        8075\n",
       "4        1820\n",
       "        ...  \n",
       "283    204457\n",
       "284    211814\n",
       "285    208287\n",
       "286    212512\n",
       "287     44382\n",
       "Name: asn, Length: 288, dtype: int64"
      ]
     },
     "execution_count": 3,
     "metadata": {},
     "output_type": "execute_result"
    }
   ],
   "source": [
    "AS_IXP['asn']"
   ]
  },
  {
   "cell_type": "code",
   "execution_count": 4,
   "id": "a6de56c2",
   "metadata": {},
   "outputs": [],
   "source": [
    "#Need a ASN, then the prefix, then the country, then the prefix size\n",
    "#First Create a DF\n",
    "#RV_df = pd.DataFrame(data = {'ASN':[],'prefix':[],'size':[]})\n",
    "ASN = []\n",
    "prefix = []\n",
    "size = []"
   ]
  },
  {
   "cell_type": "code",
   "execution_count": 5,
   "id": "9e3e76e5",
   "metadata": {},
   "outputs": [],
   "source": [
    "#test = '24151 278'\n",
    "#test.split('_')"
   ]
  },
  {
   "cell_type": "code",
   "execution_count": 6,
   "id": "dbaf80ff",
   "metadata": {},
   "outputs": [],
   "source": [
    "with open('/Users/nishantacharya/Downloads/routeviews-rv2-20240221-1200.csv') as Route_view:\n",
    "    for line in Route_view:\n",
    "        values = line.split()\n",
    "        moa = values[2].split('_')\n",
    "        for val in moa:# Multiple prefix originate the same prefix, we will take the leaf one here\n",
    "            ASN.append(val)\n",
    "            size.append(values[1])\n",
    "            prefix.append(values[0])"
   ]
  },
  {
   "cell_type": "code",
   "execution_count": 7,
   "id": "068dc62f",
   "metadata": {},
   "outputs": [],
   "source": [
    "to_check_ASN = AS_IXP['asn'].values"
   ]
  },
  {
   "cell_type": "code",
   "execution_count": 8,
   "id": "86ca4e65",
   "metadata": {},
   "outputs": [],
   "source": [
    "#Finding the values that match\n",
    "AS_index_match = []\n",
    "for AS in to_check_ASN:\n",
    "    for i in range(len(ASN)):\n",
    "        if AS == int(ASN[i]):\n",
    "            AS_index_match.append(i)"
   ]
  },
  {
   "cell_type": "code",
   "execution_count": 9,
   "id": "688eb473",
   "metadata": {},
   "outputs": [],
   "source": [
    "match_ASN = []\n",
    "match_prefix = []\n",
    "match_size = []"
   ]
  },
  {
   "cell_type": "code",
   "execution_count": 10,
   "id": "f4a85fe6",
   "metadata": {},
   "outputs": [],
   "source": [
    "for index in AS_index_match:\n",
    "    match_ASN.append(ASN[index])\n",
    "    match_prefix.append(prefix[index])\n",
    "    match_size.append(size[index])"
   ]
  },
  {
   "cell_type": "code",
   "execution_count": 11,
   "id": "6ac6d9a6",
   "metadata": {},
   "outputs": [],
   "source": [
    "RV_df = pd.DataFrame(data = {'ASN':match_ASN,'prefix':match_prefix,'size':match_size})"
   ]
  },
  {
   "cell_type": "code",
   "execution_count": 12,
   "id": "69942458",
   "metadata": {},
   "outputs": [
    {
     "data": {
      "text/html": [
       "<div>\n",
       "<style scoped>\n",
       "    .dataframe tbody tr th:only-of-type {\n",
       "        vertical-align: middle;\n",
       "    }\n",
       "\n",
       "    .dataframe tbody tr th {\n",
       "        vertical-align: top;\n",
       "    }\n",
       "\n",
       "    .dataframe thead th {\n",
       "        text-align: right;\n",
       "    }\n",
       "</style>\n",
       "<table border=\"1\" class=\"dataframe\">\n",
       "  <thead>\n",
       "    <tr style=\"text-align: right;\">\n",
       "      <th></th>\n",
       "      <th>ASN</th>\n",
       "      <th>prefix</th>\n",
       "      <th>size</th>\n",
       "    </tr>\n",
       "  </thead>\n",
       "  <tbody>\n",
       "    <tr>\n",
       "      <th>0</th>\n",
       "      <td>6775</td>\n",
       "      <td>45.143.188.0</td>\n",
       "      <td>22</td>\n",
       "    </tr>\n",
       "    <tr>\n",
       "      <th>1</th>\n",
       "      <td>6775</td>\n",
       "      <td>79.134.224.0</td>\n",
       "      <td>19</td>\n",
       "    </tr>\n",
       "    <tr>\n",
       "      <th>2</th>\n",
       "      <td>6775</td>\n",
       "      <td>79.134.254.0</td>\n",
       "      <td>23</td>\n",
       "    </tr>\n",
       "    <tr>\n",
       "      <th>3</th>\n",
       "      <td>6823</td>\n",
       "      <td>37.202.48.0</td>\n",
       "      <td>21</td>\n",
       "    </tr>\n",
       "    <tr>\n",
       "      <th>4</th>\n",
       "      <td>6823</td>\n",
       "      <td>37.202.48.0</td>\n",
       "      <td>24</td>\n",
       "    </tr>\n",
       "    <tr>\n",
       "      <th>...</th>\n",
       "      <td>...</td>\n",
       "      <td>...</td>\n",
       "      <td>...</td>\n",
       "    </tr>\n",
       "    <tr>\n",
       "      <th>36968</th>\n",
       "      <td>208287</td>\n",
       "      <td>195.133.2.0</td>\n",
       "      <td>24</td>\n",
       "    </tr>\n",
       "    <tr>\n",
       "      <th>36969</th>\n",
       "      <td>208287</td>\n",
       "      <td>213.142.149.0</td>\n",
       "      <td>24</td>\n",
       "    </tr>\n",
       "    <tr>\n",
       "      <th>36970</th>\n",
       "      <td>208287</td>\n",
       "      <td>216.9.224.0</td>\n",
       "      <td>24</td>\n",
       "    </tr>\n",
       "    <tr>\n",
       "      <th>36971</th>\n",
       "      <td>44382</td>\n",
       "      <td>216.9.225.0</td>\n",
       "      <td>24</td>\n",
       "    </tr>\n",
       "    <tr>\n",
       "      <th>36972</th>\n",
       "      <td>44382</td>\n",
       "      <td>216.9.226.0</td>\n",
       "      <td>24</td>\n",
       "    </tr>\n",
       "  </tbody>\n",
       "</table>\n",
       "<p>36973 rows × 3 columns</p>\n",
       "</div>"
      ],
      "text/plain": [
       "          ASN         prefix size\n",
       "0        6775   45.143.188.0   22\n",
       "1        6775   79.134.224.0   19\n",
       "2        6775   79.134.254.0   23\n",
       "3        6823    37.202.48.0   21\n",
       "4        6823    37.202.48.0   24\n",
       "...       ...            ...  ...\n",
       "36968  208287    195.133.2.0   24\n",
       "36969  208287  213.142.149.0   24\n",
       "36970  208287    216.9.224.0   24\n",
       "36971   44382    216.9.225.0   24\n",
       "36972   44382    216.9.226.0   24\n",
       "\n",
       "[36973 rows x 3 columns]"
      ]
     },
     "execution_count": 12,
     "metadata": {},
     "output_type": "execute_result"
    }
   ],
   "source": [
    "RV_df"
   ]
  },
  {
   "cell_type": "code",
   "execution_count": 14,
   "id": "ca5d6c80",
   "metadata": {},
   "outputs": [],
   "source": [
    "RV_df.to_csv('matched_ASN.csv', index=False)"
   ]
  },
  {
   "cell_type": "code",
   "execution_count": 13,
   "id": "964418a5",
   "metadata": {},
   "outputs": [],
   "source": [
    "#Then Geolocate the prefix using maxmind, \n",
    "#which can then be further polished by looking at the leaf prefixes to avoid ambguity\n",
    "#Then observe BGP paths to that prefix, and do active traceroutes to randomly sampled IPs\n",
    "#Observe the attributes of that affect the number of routes through the desired IXP"
   ]
  },
  {
   "cell_type": "code",
   "execution_count": 15,
   "id": "e44f4ed4",
   "metadata": {},
   "outputs": [],
   "source": [
    "RV_df = pd.read_csv('/Users/nishantacharya/Downloads/matched_ASN.csv')"
   ]
  },
  {
   "cell_type": "code",
   "execution_count": null,
   "id": "899a6ed6",
   "metadata": {},
   "outputs": [],
   "source": []
  }
 ],
 "metadata": {
  "kernelspec": {
   "display_name": "Python 3 (ipykernel)",
   "language": "python",
   "name": "python3"
  },
  "language_info": {
   "codemirror_mode": {
    "name": "ipython",
    "version": 3
   },
   "file_extension": ".py",
   "mimetype": "text/x-python",
   "name": "python",
   "nbconvert_exporter": "python",
   "pygments_lexer": "ipython3",
   "version": "3.11.5"
  }
 },
 "nbformat": 4,
 "nbformat_minor": 5
}
