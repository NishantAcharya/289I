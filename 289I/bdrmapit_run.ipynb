{
 "cells": [
  {
   "cell_type": "code",
   "execution_count": 1,
   "id": "f4b2e914",
   "metadata": {},
   "outputs": [],
   "source": [
    "from os import listdir\n",
    "from os.path import isfile, join, isdir\n",
    "import os\n",
    "import shutil"
   ]
  },
  {
   "cell_type": "code",
   "execution_count": 2,
   "id": "b93db373",
   "metadata": {},
   "outputs": [],
   "source": [
    "#Changing Directory\n",
    "os.chdir(r\"/Users/nishantacharya/Desktop/bdrmapit_updated/mapkit-traceroute-bdrmapit-pipeline\")"
   ]
  },
  {
   "cell_type": "code",
   "execution_count": 3,
   "id": "1e87281c",
   "metadata": {},
   "outputs": [
    {
     "data": {
      "text/plain": [
       "'/Users/nishantacharya/Desktop/bdrmapit_updated/mapkit-traceroute-bdrmapit-pipeline'"
      ]
     },
     "execution_count": 3,
     "metadata": {},
     "output_type": "execute_result"
    }
   ],
   "source": [
    "os.getcwd()"
   ]
  },
  {
   "cell_type": "code",
   "execution_count": 4,
   "id": "35e3e643",
   "metadata": {},
   "outputs": [],
   "source": [
    "#Helpers\n",
    "def is_hidden(file):\n",
    "    return file.startswith('.')"
   ]
  },
  {
   "cell_type": "code",
   "execution_count": 5,
   "id": "d5bee9a9",
   "metadata": {},
   "outputs": [],
   "source": [
    "#creates a folder and puts the files in the folder, for each file in a directory\n",
    "def folder_creator(path):\n",
    "    onlyfiles = [f for f in listdir(path) if isfile(join(path, f))]\n",
    "    for file in onlyfiles:\n",
    "        if is_hidden(file):\n",
    "            continue\n",
    "        \n",
    "        newpath = path+'/'+file[:-5]\n",
    "        filepath = path+'/'+file\n",
    "        print(newpath)\n",
    "        if not os.path.exists(newpath):\n",
    "            os.makedirs(newpath)\n",
    "        \n",
    "        if os.path.exists(filepath):\n",
    "            shutil.move(filepath,newpath)\n",
    "            \n",
    "def execute_python_file(file_path):\n",
    "    try:\n",
    "        with open(file_path, 'r') as file:\n",
    "            python_code = file.read()\n",
    "            exec(python_code)\n",
    "    except FileNotFoundError:\n",
    "        print(f\"Error: The file '{file_path}' does not exist.\")\n",
    "        "
   ]
  },
  {
   "cell_type": "code",
   "execution_count": 6,
   "id": "cc4305be",
   "metadata": {},
   "outputs": [],
   "source": [
    "#Update Config file, takes the path to the config file and the traceroute file and the letter code(upper case) \n",
    "#for the country\n",
    "\n",
    "#'outDir = baseDir + \"Output/\"' --> the line to update\n",
    "#'ripeInput = \"/Users/nishantacharya/Desktop/bdrmapit_updated/bdrmapit/bdrmapit/traceroutes/R/\"' --> The input file\n",
    "def config_updater(configPath,fileName,filePath,country_code):\n",
    "    with open(configPath,'r') as f:\n",
    "        code = [line.strip() for line in f.readlines()]\n",
    "    \n",
    "    if country_code == \"\" or fileName == \"\":\n",
    "        outCode = \"\"\n",
    "    else:\n",
    "        outCode = \"-\"+country_code+\"-\"+fileName\n",
    "    \n",
    "    out_dir = 'outDir = baseDir + ' + '\"Output' + outCode+'/\"'\n",
    "    ripe_Input = 'ripeInput = \"'+filePath+'\"'\n",
    "    \n",
    "    if filePath == \"\":\n",
    "        ripe_Input = 'ripeInput = \"/Users/nishantacharya/Desktop/bdrmapit_updated/bdrmapit/bdrmapit/traceroutes/R/\"'\n",
    "    \n",
    "    #finding the indicies\n",
    "    code[3] = out_dir\n",
    "    code[55] = ripe_Input\n",
    "    \n",
    "    with open(configPath,'w') as f:\n",
    "        f.writelines([f\"{line}\\n\" for line in code])\n",
    "\n",
    "#Run bdrmapit and then set the value of the config files to deafult as shown above\n",
    "def run_bdrmapit(dataPath,configPath,sql_to_csv,create_json,country_code):\n",
    "    #grab the driectory names in the data path\n",
    "    directories = [f for f in listdir(dataPath) if isdir(join(dataPath, f))]\n",
    "    \n",
    "    #for each directory edit the config file, update config and then run the files needed, then reset the config file\n",
    "    for dr in directories:\n",
    "        fileName = dr\n",
    "        filePath = dataPath + '/' + dr\n",
    "        \n",
    "        #updating config\n",
    "        config_updater(configPath,fileName,filePath,country_code)\n",
    "        \n",
    "        #execuing bdrmapit files\n",
    "        execute_python_file(create_json)\n",
    "        execute_python_file(sql_to_csv)\n",
    "        \n",
    "        #resetting the config file\n",
    "        config_updater(configPath,\"\",\"\",\"\")"
   ]
  },
  {
   "cell_type": "code",
   "execution_count": 7,
   "id": "f17cd29f",
   "metadata": {},
   "outputs": [],
   "source": [
    "#Files to edit and run path\n",
    "config = '/Users/nishantacharya/Desktop/bdrmapit_updated/mapkit-traceroute-bdrmapit-pipeline/config.py'\n",
    "sql_to_csv = '/Users/nishantacharya/Desktop/bdrmapit_updated/mapkit-traceroute-bdrmapit-pipeline/convert-sql-to-csv.py'\n",
    "create_json = '/Users/nishantacharya/Desktop/bdrmapit_updated/mapkit-traceroute-bdrmapit-pipeline/create-json-config-and-run-bdrmapit.py'"
   ]
  },
  {
   "cell_type": "code",
   "execution_count": 8,
   "id": "51ef8f26",
   "metadata": {},
   "outputs": [],
   "source": [
    "#Data paths\n",
    "#slovakia = '/Users/nishantacharya/Desktop/bdrmapit_updated/bdrmapit/bdrmapit/traceroutes/S/Slovakia'\n",
    "#romania = '/Users/nishantacharya/Desktop/bdrmapit_updated/bdrmapit/bdrmapit/traceroutes/R/Romania'\n",
    "turkey = '/Users/nishantacharya/Desktop/bdrmapit_updated/bdrmapit/bdrmapit/traceroutes/T/Turkey'"
   ]
  },
  {
   "cell_type": "code",
   "execution_count": 9,
   "id": "49859e9f",
   "metadata": {},
   "outputs": [
    {
     "name": "stdout",
     "output_type": "stream",
     "text": [
      "/Users/nishantacharya/Desktop/bdrmapit_updated/bdrmapit/bdrmapit/traceroutes/T/Turkey/count\n"
     ]
    }
   ],
   "source": [
    "#Moving files into a folder\n",
    "folder_creator(turkey)\n",
    "#folder_creator(romania)\n",
    "#folder_creator(slovakia)"
   ]
  },
  {
   "cell_type": "code",
   "execution_count": 10,
   "id": "cd2b8cd3",
   "metadata": {},
   "outputs": [
    {
     "name": "stdout",
     "output_type": "stream",
     "text": [
      "ls /Users/nishantacharya/Desktop/bdrmapit_updated/bdrmapit/bdrmapit/traceroutes/T/Turkey/RIPE-Atlas-measurement-68539655*/* > tmpFiles.txt\n",
      "cd bdrmapit; ./bdrmapit.py -c config_bdrmapit.json -o /Users/nishantacharya/Desktop/bdrmapit_updated/mapkit-traceroute-bdrmapit-pipeline/Output-T-RIPE-Atlas-measurement-68539655/bdrmapit_output.sql\n",
      "ls /Users/nishantacharya/Desktop/bdrmapit_updated/bdrmapit/bdrmapit/traceroutes/T/Turkey/RIPE-Atlas-measurement-68539655*/* > tmpFiles.txt\n",
      "cd bdrmapit; ./bdrmapit.py -c config_bdrmapit.json -o /Users/nishantacharya/Desktop/bdrmapit_updated/mapkit-traceroute-bdrmapit-pipeline/Output-T-RIPE-Atlas-measurement-68539655/bdrmapit_output.sql\n"
     ]
    },
    {
     "name": "stderr",
     "output_type": "stream",
     "text": [
      "Traceback (most recent call last):\n",
      "  File \"/Users/nishantacharya/Desktop/bdrmapit_updated/mapkit-traceroute-bdrmapit-pipeline/bdrmapit/./bdrmapit.py\", line 9, in <module>\n",
      "    from traceutils.as2org import AS2Org\n",
      "ModuleNotFoundError: No module named 'traceutils'\n",
      "sh: /Users/nishantacharya/Desktop/bdrmapit_updated/mapkit-traceroute-bdrmapit-pipeline/Output-T-RIPE-Atlas-measurement-68539655/bdrmapit_output.csv: No such file or directory\n",
      "Traceback (most recent call last):\n",
      "  File \"/Users/nishantacharya/Desktop/bdrmapit_updated/mapkit-traceroute-bdrmapit-pipeline/bdrmapit/./bdrmapit.py\", line 9, in <module>\n",
      "    from traceutils.as2org import AS2Org\n",
      "ModuleNotFoundError: No module named 'traceutils'\n",
      "sh: /Users/nishantacharya/Desktop/bdrmapit_updated/mapkit-traceroute-bdrmapit-pipeline/Output-T-RIPE-Atlas-measurement-68539655/bdrmapit_output.csv: No such file or directory\n"
     ]
    },
    {
     "name": "stdout",
     "output_type": "stream",
     "text": [
      "ls /Users/nishantacharya/Desktop/bdrmapit_updated/bdrmapit/bdrmapit/traceroutes/T/Turkey/RIPE-Atlas-measurement-68539655*/* > tmpFiles.txt\n",
      "cd bdrmapit; ./bdrmapit.py -c config_bdrmapit.json -o /Users/nishantacharya/Desktop/bdrmapit_updated/mapkit-traceroute-bdrmapit-pipeline/Output-T-RIPE-Atlas-measurement-68539655/bdrmapit_output.sql\n",
      "ls /Users/nishantacharya/Desktop/bdrmapit_updated/bdrmapit/bdrmapit/traceroutes/T/Turkey/RIPE-Atlas-measurement-68539655*/* > tmpFiles.txt\n",
      "cd bdrmapit; ./bdrmapit.py -c config_bdrmapit.json -o /Users/nishantacharya/Desktop/bdrmapit_updated/mapkit-traceroute-bdrmapit-pipeline/Output-T-RIPE-Atlas-measurement-68539655/bdrmapit_output.sql\n"
     ]
    },
    {
     "name": "stderr",
     "output_type": "stream",
     "text": [
      "Traceback (most recent call last):\n",
      "  File \"/Users/nishantacharya/Desktop/bdrmapit_updated/mapkit-traceroute-bdrmapit-pipeline/bdrmapit/./bdrmapit.py\", line 9, in <module>\n",
      "    from traceutils.as2org import AS2Org\n",
      "ModuleNotFoundError: No module named 'traceutils'\n",
      "sh: /Users/nishantacharya/Desktop/bdrmapit_updated/mapkit-traceroute-bdrmapit-pipeline/Output-T-RIPE-Atlas-measurement-68539655/bdrmapit_output.csv: No such file or directory\n",
      "Traceback (most recent call last):\n",
      "  File \"/Users/nishantacharya/Desktop/bdrmapit_updated/mapkit-traceroute-bdrmapit-pipeline/bdrmapit/./bdrmapit.py\", line 9, in <module>\n",
      "    from traceutils.as2org import AS2Org\n",
      "ModuleNotFoundError: No module named 'traceutils'\n",
      "sh: /Users/nishantacharya/Desktop/bdrmapit_updated/mapkit-traceroute-bdrmapit-pipeline/Output-T-RIPE-Atlas-measurement-68539655/bdrmapit_output.csv: No such file or directory\n"
     ]
    },
    {
     "name": "stdout",
     "output_type": "stream",
     "text": [
      "ls /Users/nishantacharya/Desktop/bdrmapit_updated/bdrmapit/bdrmapit/traceroutes/T/Turkey/RIPE-Atlas-measurement-68539655*/* > tmpFiles.txt\n",
      "cd bdrmapit; ./bdrmapit.py -c config_bdrmapit.json -o /Users/nishantacharya/Desktop/bdrmapit_updated/mapkit-traceroute-bdrmapit-pipeline/Output-T-RIPE-Atlas-measurement-68539655/bdrmapit_output.sql\n",
      "ls /Users/nishantacharya/Desktop/bdrmapit_updated/bdrmapit/bdrmapit/traceroutes/T/Turkey/RIPE-Atlas-measurement-68539655*/* > tmpFiles.txt\n",
      "cd bdrmapit; ./bdrmapit.py -c config_bdrmapit.json -o /Users/nishantacharya/Desktop/bdrmapit_updated/mapkit-traceroute-bdrmapit-pipeline/Output-T-RIPE-Atlas-measurement-68539655/bdrmapit_output.sql\n"
     ]
    },
    {
     "name": "stderr",
     "output_type": "stream",
     "text": [
      "Traceback (most recent call last):\n",
      "  File \"/Users/nishantacharya/Desktop/bdrmapit_updated/mapkit-traceroute-bdrmapit-pipeline/bdrmapit/./bdrmapit.py\", line 9, in <module>\n",
      "    from traceutils.as2org import AS2Org\n",
      "ModuleNotFoundError: No module named 'traceutils'\n",
      "sh: /Users/nishantacharya/Desktop/bdrmapit_updated/mapkit-traceroute-bdrmapit-pipeline/Output-T-RIPE-Atlas-measurement-68539655/bdrmapit_output.csv: No such file or directory\n",
      "Traceback (most recent call last):\n",
      "  File \"/Users/nishantacharya/Desktop/bdrmapit_updated/mapkit-traceroute-bdrmapit-pipeline/bdrmapit/./bdrmapit.py\", line 9, in <module>\n",
      "    from traceutils.as2org import AS2Org\n",
      "ModuleNotFoundError: No module named 'traceutils'\n",
      "sh: /Users/nishantacharya/Desktop/bdrmapit_updated/mapkit-traceroute-bdrmapit-pipeline/Output-T-RIPE-Atlas-measurement-68539655/bdrmapit_output.csv: No such file or directory\n"
     ]
    },
    {
     "name": "stdout",
     "output_type": "stream",
     "text": [
      "ls /Users/nishantacharya/Desktop/bdrmapit_updated/bdrmapit/bdrmapit/traceroutes/T/Turkey/RIPE-Atlas-measurement-68539655*/* > tmpFiles.txt\n",
      "cd bdrmapit; ./bdrmapit.py -c config_bdrmapit.json -o /Users/nishantacharya/Desktop/bdrmapit_updated/mapkit-traceroute-bdrmapit-pipeline/Output-T-RIPE-Atlas-measurement-68539655/bdrmapit_output.sql\n"
     ]
    },
    {
     "name": "stderr",
     "output_type": "stream",
     "text": [
      "Traceback (most recent call last):\n",
      "  File \"/Users/nishantacharya/Desktop/bdrmapit_updated/mapkit-traceroute-bdrmapit-pipeline/bdrmapit/./bdrmapit.py\", line 9, in <module>\n",
      "    from traceutils.as2org import AS2Org\n",
      "ModuleNotFoundError: No module named 'traceutils'\n",
      "sh: /Users/nishantacharya/Desktop/bdrmapit_updated/mapkit-traceroute-bdrmapit-pipeline/Output-T-RIPE-Atlas-measurement-68539655/bdrmapit_output.csv: No such file or directory\n"
     ]
    }
   ],
   "source": [
    "#running bdrmapit\n",
    "#run_bdrmapit(slovakia,config,sql_to_csv,create_json,'S')\n",
    "#run_bdrmapit(romania,config,sql_to_csv,create_json,'R')\n",
    "run_bdrmapit(turkey,config,sql_to_csv,create_json,'T')"
   ]
  },
  {
   "cell_type": "code",
   "execution_count": null,
   "id": "535f1c05",
   "metadata": {},
   "outputs": [],
   "source": []
  },
  {
   "cell_type": "code",
   "execution_count": null,
   "id": "f772a3e4",
   "metadata": {},
   "outputs": [],
   "source": []
  },
  {
   "cell_type": "code",
   "execution_count": null,
   "id": "9a40b712",
   "metadata": {},
   "outputs": [],
   "source": []
  },
  {
   "cell_type": "code",
   "execution_count": null,
   "id": "4fdeea02",
   "metadata": {},
   "outputs": [],
   "source": []
  }
 ],
 "metadata": {
  "kernelspec": {
   "display_name": "Python 3 (ipykernel)",
   "language": "python",
   "name": "python3"
  },
  "language_info": {
   "codemirror_mode": {
    "name": "ipython",
    "version": 3
   },
   "file_extension": ".py",
   "mimetype": "text/x-python",
   "name": "python",
   "nbconvert_exporter": "python",
   "pygments_lexer": "ipython3",
   "version": "3.11.5"
  }
 },
 "nbformat": 4,
 "nbformat_minor": 5
}
