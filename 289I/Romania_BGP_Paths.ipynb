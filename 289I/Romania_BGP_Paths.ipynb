{
 "cells": [
  {
   "cell_type": "code",
   "execution_count": null,
   "id": "e7af2931",
   "metadata": {},
   "outputs": [],
   "source": [
    "import pandas as pd\n",
    "\n",
    "# Specify the path to your CSV file\n",
    "csv_file_path = 'IXP_ASN.csv'\n",
    "\n",
    "# Read the CSV file into a DataFrame\n",
    "df = pd.read_csv(csv_file_path)\n",
    "\n",
    "# Display the first few rows of the DataFrame to confirm it's loaded correctly\n",
    "ASNs=list(df['asn'])\n",
    "TR_df=df[df['country']==\"TR\"]\n",
    "ASNs=list(TR_df['asn'])"
   ]
  },
  {
   "cell_type": "code",
   "execution_count": null,
   "id": "100e5bde",
   "metadata": {},
   "outputs": [],
   "source": [
    "len(ASNs)"
   ]
  },
  {
   "cell_type": "code",
   "execution_count": null,
   "id": "27e7cf07",
   "metadata": {},
   "outputs": [],
   "source": [
    "import itertools\n",
    "import subprocess\n",
    "import concurrent.futures\n",
    "\n",
    "# Function to run grep command and return the result\n",
    "def grep_adjacent_numbers(combination):\n",
    "    number1, number2 = combination\n",
    "    print(combination)\n",
    "    cmd = f\"bgpdump rib.20240130.2000.bz2 | grep -E 'ASPATH:.*\\\\b{number1} {number2}\\\\b|\\\\b{number2} {number1}\\\\b'\"\n",
    "    result = subprocess.run(cmd, shell=True, text=True, capture_output=True)\n",
    "    if result.stdout:\n",
    "        return f\"Combination {number1} {number2}:\\n{result.stdout}\\n\"\n",
    "    return None\n",
    "\n",
    "# Function to generate all combinations and run grep for each using multithreading\n",
    "def search_adjacent_as_numbers(numbers, output_file):\n",
    "    combinations = list(itertools.combinations(numbers, 2))\n",
    "    with concurrent.futures.ThreadPoolExecutor(max_workers=100) as executor:\n",
    "        # Submit all grep tasks to the executor\n",
    "        future_to_combination = {executor.submit(grep_adjacent_numbers, combination): combination for combination in combinations}\n",
    "        \n",
    "        # Write results to the file as they complete\n",
    "        with open(output_file, 'w') as out:\n",
    "            for future in concurrent.futures.as_completed(future_to_combination):\n",
    "                result = future.result()\n",
    "                if result:\n",
    "                    out.write(result)\n",
    "\n",
    "numbers = [6939,6775]  # Example list of AS numbers\n",
    "output_file = 'Outs/ixp_inpath.txt'\n",
    "\n",
    "search_adjacent_as_numbers(numbers, output_file)"
   ]
  },
  {
   "cell_type": "code",
   "execution_count": null,
   "id": "8d1301fd",
   "metadata": {},
   "outputs": [],
   "source": []
  }
 ],
 "metadata": {
  "kernelspec": {
   "display_name": "Python 3 (ipykernel)",
   "language": "python",
   "name": "python3"
  },
  "language_info": {
   "codemirror_mode": {
    "name": "ipython",
    "version": 3
   },
   "file_extension": ".py",
   "mimetype": "text/x-python",
   "name": "python",
   "nbconvert_exporter": "python",
   "pygments_lexer": "ipython3",
   "version": "3.11.5"
  }
 },
 "nbformat": 4,
 "nbformat_minor": 5
}
