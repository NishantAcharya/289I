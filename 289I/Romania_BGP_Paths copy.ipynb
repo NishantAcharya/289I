{
 "cells": [
  {
   "cell_type": "code",
   "execution_count": null,
   "id": "f421cdea",
   "metadata": {},
   "outputs": [],
   "source": [
    "import pandas as pd\n",
    "\n",
    "# Specify the path to your CSV file\n",
    "csv_file_path = 'IXP_ASN.csv'\n",
    "\n",
    "# Read the CSV file into a DataFrame\n",
    "df = pd.read_csv(csv_file_path)\n",
    "\n",
    "# Display the first few rows of the DataFrame to confirm it's loaded correctly\n",
    "ASNs=list(df['asn'])\n",
    "TR_df=df[df['country']==\"TR\"]\n",
    "ASNs=list(TR_df['asn'])"
   ]
  },
  {
   "cell_type": "code",
   "execution_count": null,
   "id": "476a41a2",
   "metadata": {},
   "outputs": [],
   "source": [
    "len(ASNs)"
   ]
  },
  {
   "cell_type": "code",
   "execution_count": null,
   "id": "54c4cce8",
   "metadata": {},
   "outputs": [],
   "source": [
    "import itertools\n",
    "import subprocess\n",
    "\n",
    "# Function to run grep command and return the result\n",
    "def grep_adjacent_numbers(number1, number2):\n",
    "    cmd = f\"bgpdump rib.20240130.2000.bz2 | grep -E 'ASPATH:.*\\\\b{number1} {number2}\\\\b|\\\\b{number2} {number1}'\"\n",
    "    #cmd = f\"grep -E 'ASPATH:.*\\\\b{number1} {number2}\\\\b|\\\\b{number2} {number1}\\\\b' {file}\"\n",
    "    result = subprocess.run(cmd, shell=True, text=True, capture_output=True)\n",
    "    return result.stdout\n",
    "\n",
    "# Function to generate all combinations and run grep for each\n",
    "def search_adjacent_as_numbers(chunks,numbers, output_file):\n",
    "    with open(output_file, 'w') as out:\n",
    "        for number1 in chunks:\n",
    "            for number2 in numbers:\n",
    "                if number1 == number2:\n",
    "                    continue\n",
    "                result = grep_adjacent_numbers(number1, number2)\n",
    "                if result:\n",
    "                    print(number1,number2)\n",
    "                    out.write(f\"Combination {number1} {number2}:\\n{result}\\n\")\n",
    "\n",
    "# Specify your file name and the list of numbers\n",
    "#file_name = 'output.txt'\n",
    "#numbers = ASNs # Example list of AS numbers\n",
    "#output_file = 'ixp_inpath.txt'\n",
    "\n",
    "# Run the search and store results\n",
    "#search_adjacent_as_numbers(numbers, output_file)"
   ]
  },
  {
   "cell_type": "code",
   "execution_count": null,
   "id": "6745acb3",
   "metadata": {},
   "outputs": [],
   "source": [
    "def chunks(lst, n):\n",
    "    for i in range(0, len(lst), n):\n",
    "        yield lst[i:i + n]"
   ]
  },
  {
   "cell_type": "code",
   "execution_count": null,
   "id": "8c8d22af",
   "metadata": {},
   "outputs": [],
   "source": [
    "import threading\n",
    "#numbers = ASNs\n",
    "numbers = [6939,6775]\n",
    "\n",
    "chunk_numbers = []\n",
    "\n",
    "for chunk in chunks(numbers,1):\n",
    "    chunk_numbers.append(chunk)"
   ]
  },
  {
   "cell_type": "code",
   "execution_count": null,
   "id": "1d3e123c",
   "metadata": {},
   "outputs": [],
   "source": []
  },
  {
   "cell_type": "code",
   "execution_count": null,
   "id": "0384b0c4",
   "metadata": {},
   "outputs": [],
   "source": [
    "#creating the threads\n",
    "threads = []\n",
    "for i in range(len(chunk_numbers)):\n",
    "    file_name = '/Users/nishantacharya/Desktop/289I/Outs/ixp_inpath_'+str(i)+'.txt'\n",
    "    chunk = chunk_numbers[i]\n",
    "    thread = threading.Thread(target=search_adjacent_as_numbers, args=(chunk,numbers,file_name))\n",
    "    threads.append(thread)\n",
    "    \n"
   ]
  },
  {
   "cell_type": "code",
   "execution_count": null,
   "id": "5fa279a7",
   "metadata": {
    "scrolled": true
   },
   "outputs": [],
   "source": [
    "#starting the threads\n",
    "for i in range(len(threads)):\n",
    "    threads[i].start()"
   ]
  },
  {
   "cell_type": "code",
   "execution_count": null,
   "id": "235bdb94",
   "metadata": {
    "scrolled": true
   },
   "outputs": [],
   "source": [
    "#stopping the threads\n",
    "for i in range(len(threads)):\n",
    "    threads[i].join()"
   ]
  },
  {
   "cell_type": "code",
   "execution_count": null,
   "id": "f60f1f88",
   "metadata": {},
   "outputs": [],
   "source": []
  }
 ],
 "metadata": {
  "kernelspec": {
   "display_name": "Python 3 (ipykernel)",
   "language": "python",
   "name": "python3"
  },
  "language_info": {
   "codemirror_mode": {
    "name": "ipython",
    "version": 3
   },
   "file_extension": ".py",
   "mimetype": "text/x-python",
   "name": "python",
   "nbconvert_exporter": "python",
   "pygments_lexer": "ipython3",
   "version": "3.11.5"
  }
 },
 "nbformat": 4,
 "nbformat_minor": 5
}
