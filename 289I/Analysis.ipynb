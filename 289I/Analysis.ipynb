{
 "cells": [
  {
   "cell_type": "code",
   "execution_count": 55,
   "id": "499e1b1e",
   "metadata": {},
   "outputs": [],
   "source": [
    "import pandas as pd\n",
    "import numpy as np\n",
    "import ipaddress\n",
    "import os"
   ]
  },
  {
   "cell_type": "code",
   "execution_count": 56,
   "id": "009297d1",
   "metadata": {},
   "outputs": [],
   "source": [
    "def create_list(path):\n",
    "    data = pd.read_csv(path)\n",
    "    prefixes = data['prefixes'].unique()\n",
    "    output = []\n",
    "    for prefix in prefixes:\n",
    "        temp = prefix.replace(\"'\",'\"')\n",
    "        parsed_pfx = json.loads(temp)\n",
    "        output.append(parsed_pfx['ipv4'][0])\n",
    "    \n",
    "    return output"
   ]
  },
  {
   "cell_type": "code",
   "execution_count": 57,
   "id": "fbbba478",
   "metadata": {},
   "outputs": [],
   "source": [
    "#Helpers\n",
    "#This function makes a dictionary out of the keys\n",
    "def make_dict(keys):\n",
    "    output = {}\n",
    "    for key in keys:\n",
    "        output[key] = {'total_routes':0,'completed_routes':0}\n",
    "    return output\n",
    "#This function will iteratively go over the routes and check how many succeed and how   \n",
    "def analyze_routes(root_dir,prefix_list):\n",
    "    frame = make_dict(prefix_list)\n",
    "    for entry in os.listdir(root_dir):\n",
    "        upperPath = os.path.join(root_dir,entry)\n",
    "        if os.path.isdir(upperPath):\n",
    "            for mid in os.listdir(upperPath):\n",
    "                fullPath = os.path.join(upperPath,mid)\n",
    "                if os.path.isdir(fullPath):\n",
    "                    data = pd.read_csv(fullPath+'/final_out.csv')\n",
    "                    destination_ip = data['Destination_IP'][0]\n",
    "                    if destination_ip in prefix_list:\n",
    "                        frame[destination_ip]['total_routes'] += data.shape[0]\n",
    "                        frame[destination_ip]['completed_routes'] += data['possibly_reached?'].value_counts()[True]\n",
    "    \n",
    "    output = pd.DataFrame(frame)\n",
    "    output.to_csv(root_dir+'counts.csv')\n",
    "                    \n",
    "                        \n",
    "                    \n",
    "                    \n",
    "                        "
   ]
  },
  {
   "cell_type": "code",
   "execution_count": 58,
   "id": "5ae7d61d",
   "metadata": {},
   "outputs": [],
   "source": [
    "romania_ix = ['185.0.0.2', '185.0.0.253', '86.104.125.176','86.104.125.129','86.104.125.69','86.104.125.80','185.1.103.77','185.1.103.97', '185.1.103.94', '185.1.103.95','185.1.179.3','185.1.150.0']\n",
    "turkey_ix = ['185.1.48.28','185.1.48.22','185.1.48.37']\n",
    "slovakia_ix = ['194.30.187.168', '194.30.187.211','194.30.187.171','194.30.187.12','194.30.187.221','185.1.234.15','185.1.234.10','192.108.148.30', '192.108.148.31','192.108.148.168', '192.108.148.170', '192.108.148.171','192.108.148.215', '192.108.148.216']"
   ]
  },
  {
   "cell_type": "code",
   "execution_count": 60,
   "id": "892a2c94",
   "metadata": {},
   "outputs": [],
   "source": [
    "analyze_routes('/Users/nishantacharya/Desktop/bdrmapit_updated/traceroutes/T/Turkey/',turkey_ix)\n",
    "analyze_routes('/Users/nishantacharya/Desktop/bdrmapit_updated/traceroutes/R/Romania/',romania_ix)\n",
    "analyze_routes('/Users/nishantacharya/Desktop/bdrmapit_updated/traceroutes/S/Slovakia/',slovakia_ix)"
   ]
  },
  {
   "cell_type": "code",
   "execution_count": 69,
   "id": "07752ff8",
   "metadata": {},
   "outputs": [],
   "source": [
    "romania_ixps = {\"DSIX\":[74,28],\"InterLAN-IX\":[296,118],\"RoNIX\":[296,142],\"ROPNIX\":[74,27],\"InternetExchange-SRL/(ROIX)/\":[74,39]}\n",
    "slovakia_ixps = {\"NIX\":[220,190],\"PoIX\":[88,47],\"SIX\":[308,280]}\n",
    "turkey_ixps = {\"DE-CIX Istanbul\":[143,129]}#Not a good representation"
   ]
  },
  {
   "cell_type": "code",
   "execution_count": 70,
   "id": "39ff04bf",
   "metadata": {},
   "outputs": [],
   "source": [
    "romania_avgs = [67.83,29.5]\n",
    "turkey_avgs = [47.67,43]\n",
    "slovakia_avgs = [44,36.928]"
   ]
  },
  {
   "cell_type": "code",
   "execution_count": 106,
   "id": "b99624c0",
   "metadata": {},
   "outputs": [],
   "source": [
    "romania_graph = {\"ixps\":['DSIX','InterLAN-IX','ROPNIX','ROIX'],\"total\":[74,296,74,74],\"completed\":[28,118,27,39]}\n",
    "slovakia_graph = {\"ixps\":['NIX','PoIX','SIX'],\"total\":[220,88,308],\"completed\":[190,47,280]}\n",
    "turkey_graph = {\"ixps\":[\"DE-CIX Istanbul\"],\"total\":[143],\"completed\":[129]}"
   ]
  },
  {
   "cell_type": "code",
   "execution_count": 125,
   "id": "28cf4b67",
   "metadata": {},
   "outputs": [],
   "source": [
    "import matplotlib.pyplot as plt\n",
    "\n",
    "def addlabels(x,y):\n",
    "    for i in range(len(x)):\n",
    "        plt.text(i, y[i], y[i], ha = 'center')\n",
    "def addlabels2(x,y,name):\n",
    "    for i in range(len(x)):\n",
    "        if name != \"Turkey\":\n",
    "            plt.text(i+0.35, y[i], y[i], ha = 'center')\n",
    "        else:\n",
    "            plt.text(i+0.2, y[i], y[i], ha = 'center')\n",
    "            \n",
    "\n",
    "def create_graph(data,title):\n",
    "    # Extract data lists from the dictionary\n",
    "    categories = data[\"ixps\"]\n",
    "    values1 = data[\"total\"]\n",
    "    values2 = data[\"completed\"]\n",
    "\n",
    "    # Create a bar width\n",
    "    bar_width = 0.35\n",
    "\n",
    "    # Define positions for each bar group on the x-axis\n",
    "    index = range(len(categories))\n",
    "\n",
    "    # Create subplots and adjust spacing\n",
    "    fig, ax = plt.subplots()\n",
    "    plt.subplots_adjust(bottom=0.3)  # Adjust space for labels\n",
    "\n",
    "    # Plot bars for Values1 with blue color and label\n",
    "    plt.bar(index, values1, bar_width, label=\"Total Routes\", color='pink')\n",
    "    addlabels(index,values1)\n",
    "    \n",
    "\n",
    "    # Shift positions for Values2 bars to avoid overlap\n",
    "    shifted_index = [i + bar_width for i in index]\n",
    "\n",
    "    # Plot bars for Values2 with green color and label\n",
    "    plt.bar(shifted_index, values2, bar_width, label=\"Completed Routes\", color='teal')\n",
    "    addlabels2(shifted_index,values2,title)\n",
    "\n",
    "    # Set labels and title\n",
    "    plt.xlabel(\"IXPs\")\n",
    "    plt.ylabel(\"Routes\")\n",
    "    plt.title(title+\"'s\"+\" Route Analysis per IXP\")\n",
    "\n",
    "    # Set x-axis positions with category labels\n",
    "    plt.xticks([i + bar_width/2 for i in index], categories)\n",
    "\n",
    "    # Add legend\n",
    "    plt.legend()\n",
    "\n",
    "    # Show the plot\n",
    "    plt.show()"
   ]
  },
  {
   "cell_type": "code",
   "execution_count": 126,
   "id": "f03629ff",
   "metadata": {},
   "outputs": [
    {
     "data": {
      "image/png": "[encoded data removed]",
      "text/plain": [
       "<Figure size 640x480 with 1 Axes>"
      ]
     },
     "metadata": {},
     "output_type": "display_data"
    }
   ],
   "source": [
    "create_graph(romania_graph,\"Romania\")"
   ]
  },
  {
   "cell_type": "code",
   "execution_count": 127,
   "id": "5513ef7c",
   "metadata": {},
   "outputs": [
    {
     "data": {
      "image/png": "[encoded data removed]",
      "text/plain": [
       "<Figure size 640x480 with 1 Axes>"
      ]
     },
     "metadata": {},
     "output_type": "display_data"
    }
   ],
   "source": [
    "create_graph(turkey_graph,\"Turkey\")"
   ]
  },
  {
   "cell_type": "code",
   "execution_count": 128,
   "id": "9bec6f3c",
   "metadata": {},
   "outputs": [
    {
     "data": {
      "image/png": "[encoded data removed]",
      "text/plain": [
       "<Figure size 640x480 with 1 Axes>"
      ]
     },
     "metadata": {},
     "output_type": "display_data"
    }
   ],
   "source": [
    "create_graph(slovakia_graph,\"Slovakia\")"
   ]
  },
  {
   "cell_type": "code",
   "execution_count": 238,
   "id": "d08e7694",
   "metadata": {},
   "outputs": [],
   "source": [
    "#metric\n",
    "def calculate_metric(completed_routes,total_routes,total_IPs,IXP_IPs):\n",
    "    return 50*(completed_routes/total_routes)+50*(IXP_IPs/total_IPs)\n",
    "\n",
    "def calculate_percentage_served(total_IPs,IXP_IPs):\n",
    "    return IXP_IPs/total_IPs"
   ]
  },
  {
   "cell_type": "code",
   "execution_count": 239,
   "id": "a962d59c",
   "metadata": {},
   "outputs": [],
   "source": [
    "romania_graph = {\"ixps\":['DSIX','InterLAN-IX','ROPNIX','ROIX'],\"total\":[74,296,74,74],\"completed\":[28,118,27,39]}\n",
    "slovakia_graph = {\"ixps\":['NIX','PoIX','SIX'],\"total\":[220,88,308],\"completed\":[190,47,280]}\n",
    "turkey_graph = {\"ixps\":[\"DE-CIX Istanbul\"],\"total\":[143],\"completed\":[129]}"
   ]
  },
  {
   "cell_type": "code",
   "execution_count": 240,
   "id": "474db0de",
   "metadata": {},
   "outputs": [],
   "source": [
    "DSIX = calculate_metric(28,74,7703296,3072)\n",
    "InterLAN = calculate_metric(118,296,7703296,2896128)\n",
    "ROPNIX = calculate_metric(27,74,7703296,256)\n",
    "ROIX = calculate_metric(39,74,7703296,9728)\n",
    "NIX = calculate_metric(190,220,2194944,270080)\n",
    "PoIX = calculate_metric(47,88,2194944,8704)\n",
    "SIX = calculate_metric(280,308,2194944,728576)\n",
    "CIX = calculate_metric(129,143,16296448,3648000)"
   ]
  },
  {
   "cell_type": "code",
   "execution_count": 241,
   "id": "cdd1e72f",
   "metadata": {},
   "outputs": [
    {
     "name": "stdout",
     "output_type": "stream",
     "text": [
      "      IXP_Names  Metric_Values\n",
      "            SIX      62.051233\n",
      "DE-CIX Istanbul      56.297518\n",
      "            NIX      49.334139\n",
      "    InterLAN-IX      38.730412\n",
      "           PoIX      26.902819\n",
      "           ROIX      26.414493\n",
      "           DSIX      18.938858\n",
      "         ROPNIX      18.244905\n"
     ]
    }
   ],
   "source": [
    "ranks = [DSIX,InterLAN,ROPNIX,ROIX,NIX,PoIX,SIX,CIX]\n",
    "names = ['DSIX','InterLAN-IX','ROPNIX','ROIX','NIX','PoIX','SIX','DE-CIX Istanbul']\n",
    "Table = {'IXP_Names':names,'Metric_Values':ranks}\n",
    "results = pd.DataFrame(Table)\n",
    "ranked = results.sort_values('Metric_Values',ascending = False)\n",
    "print(ranked.to_string(index=False))"
   ]
  },
  {
   "cell_type": "code",
   "execution_count": 242,
   "id": "4e24e4e2",
   "metadata": {},
   "outputs": [
    {
     "data": {
      "text/plain": [
       "[18.93885843571796,\n",
       " 38.730411894730125,\n",
       " 18.24490486964316,\n",
       " 26.414493154548317,\n",
       " 49.334139152193735,\n",
       " 26.902819305723433,\n",
       " 62.05123311491401,\n",
       " 56.29751818447662]"
      ]
     },
     "execution_count": 242,
     "metadata": {},
     "output_type": "execute_result"
    }
   ],
   "source": [
    "ranks"
   ]
  },
  {
   "cell_type": "code",
   "execution_count": null,
   "id": "1129b3ca",
   "metadata": {},
   "outputs": [],
   "source": []
  },
  {
   "cell_type": "code",
   "execution_count": null,
   "id": "5b01c4a3",
   "metadata": {},
   "outputs": [],
   "source": []
  },
  {
   "cell_type": "code",
   "execution_count": 243,
   "id": "cc537e2e",
   "metadata": {},
   "outputs": [],
   "source": [
    "#Checking the number of IPs that the state ASes affect\n",
    "state_ips = pd.read_csv('/Users/nishantacharya/Downloads/state_prefixes.csv')"
   ]
  },
  {
   "cell_type": "code",
   "execution_count": 244,
   "id": "962fbe19",
   "metadata": {},
   "outputs": [],
   "source": [
    "turkey = state_ips.loc[state_ips['ASN'] == 47524]\n",
    "bits = 32 - turkey['size']"
   ]
  },
  {
   "cell_type": "code",
   "execution_count": 245,
   "id": "b31f5d1c",
   "metadata": {},
   "outputs": [
    {
     "data": {
      "text/plain": [
       "0      10\n",
       "1      10\n",
       "2      10\n",
       "3       8\n",
       "4       8\n",
       "       ..\n",
       "625     8\n",
       "626    10\n",
       "627     8\n",
       "628     8\n",
       "629     8\n",
       "Name: size, Length: 630, dtype: int64"
      ]
     },
     "execution_count": 245,
     "metadata": {},
     "output_type": "execute_result"
    }
   ],
   "source": [
    "bits"
   ]
  },
  {
   "cell_type": "code",
   "execution_count": 246,
   "id": "ce325454",
   "metadata": {},
   "outputs": [],
   "source": [
    "bits = bits.tolist()"
   ]
  },
  {
   "cell_type": "code",
   "execution_count": 247,
   "id": "5cc67d82",
   "metadata": {},
   "outputs": [],
   "source": [
    "ips = []\n",
    "for num in bits:\n",
    "    num = 2**num\n",
    "    ips.append(num)"
   ]
  },
  {
   "cell_type": "code",
   "execution_count": 248,
   "id": "4e7e7724",
   "metadata": {},
   "outputs": [],
   "source": [
    "total_turkey = sum(ips)"
   ]
  },
  {
   "cell_type": "code",
   "execution_count": 249,
   "id": "366fdb60",
   "metadata": {},
   "outputs": [
    {
     "data": {
      "text/plain": [
       "0.12364912280701755"
      ]
     },
     "execution_count": 249,
     "metadata": {},
     "output_type": "execute_result"
    }
   ],
   "source": [
    "#Total turkey over total in IXP\n",
    "total_turkey/3648000"
   ]
  },
  {
   "cell_type": "code",
   "execution_count": 250,
   "id": "6411478a",
   "metadata": {},
   "outputs": [
    {
     "data": {
      "text/plain": [
       "0.02767916051399667"
      ]
     },
     "execution_count": 250,
     "metadata": {},
     "output_type": "execute_result"
    }
   ],
   "source": [
    "#Total turkey over full turkey\n",
    "total_turkey/16296448"
   ]
  },
  {
   "cell_type": "code",
   "execution_count": 251,
   "id": "41208c5f",
   "metadata": {},
   "outputs": [],
   "source": [
    "slovakia = state_ips.loc[state_ips['ASN'] == 15471]\n",
    "bits = 32 - slovakia['size']\n",
    "bits = bits.tolist()\n",
    "ips = []\n",
    "for num in bits:\n",
    "    num = 2**num\n",
    "    ips.append(num)\n",
    "total_romania = sum(ips)"
   ]
  },
  {
   "cell_type": "code",
   "execution_count": 252,
   "id": "fa1c1e3c",
   "metadata": {},
   "outputs": [
    {
     "data": {
      "text/plain": [
       "0.010607265977194379"
      ]
     },
     "execution_count": 252,
     "metadata": {},
     "output_type": "execute_result"
    }
   ],
   "source": [
    "#Total Romania over total in IXP(InterLan)\n",
    "total_romania/2896128"
   ]
  },
  {
   "cell_type": "code",
   "execution_count": 253,
   "id": "ab8e7613",
   "metadata": {},
   "outputs": [
    {
     "data": {
      "text/plain": [
       "0.003987903359808581"
      ]
     },
     "execution_count": 253,
     "metadata": {},
     "output_type": "execute_result"
    }
   ],
   "source": [
    "#Total Romania over full Romania\n",
    "total_romania/7703296"
   ]
  },
  {
   "cell_type": "code",
   "execution_count": 254,
   "id": "8e1fe9aa",
   "metadata": {},
   "outputs": [],
   "source": [
    "DSIX = calculate_percentage_served(7703296,3072)\n",
    "InterLAN = calculate_percentage_served(7703296,2896128)\n",
    "ROPNIX = calculate_percentage_served(7703296,256)\n",
    "ROIX = calculate_percentage_served(7703296,9728)\n",
    "NIX = calculate_percentage_served(2194944,270080)\n",
    "PoIX = calculate_percentage_served(2194944,8704)\n",
    "SIX = calculate_percentage_served(2194944,728576)\n",
    "CIX = calculate_percentage_served(16296448,3648000)"
   ]
  },
  {
   "cell_type": "code",
   "execution_count": 255,
   "id": "93280c59",
   "metadata": {},
   "outputs": [
    {
     "name": "stdout",
     "output_type": "stream",
     "text": [
      "      IXP_Names  %_Values\n",
      "    InterLAN-IX  0.375960\n",
      "            SIX  0.331934\n",
      "DE-CIX Istanbul  0.223852\n",
      "            NIX  0.123046\n",
      "           PoIX  0.003965\n",
      "           ROIX  0.001263\n",
      "           DSIX  0.000399\n",
      "         ROPNIX  0.000033\n"
     ]
    }
   ],
   "source": [
    "ranks = [DSIX,InterLAN,ROPNIX,ROIX,NIX,PoIX,SIX,CIX]\n",
    "names = ['DSIX','InterLAN-IX','ROPNIX','ROIX','NIX','PoIX','SIX','DE-CIX Istanbul']\n",
    "Table = {'IXP_Names':names,'%_Values':ranks}\n",
    "results = pd.DataFrame(Table)\n",
    "ranked = results.sort_values('%_Values',ascending = False)\n",
    "print(ranked.to_string(index=False))"
   ]
  },
  {
   "cell_type": "code",
   "execution_count": null,
   "id": "f0b15fc7",
   "metadata": {},
   "outputs": [],
   "source": []
  },
  {
   "cell_type": "code",
   "execution_count": null,
   "id": "1d53070c",
   "metadata": {},
   "outputs": [],
   "source": []
  }
 ],
 "metadata": {
  "kernelspec": {
   "display_name": "Python 3 (ipykernel)",
   "language": "python",
   "name": "python3"
  },
  "language_info": {
   "codemirror_mode": {
    "name": "ipython",
    "version": 3
   },
   "file_extension": ".py",
   "mimetype": "text/x-python",
   "name": "python",
   "nbconvert_exporter": "python",
   "pygments_lexer": "ipython3",
   "version": "3.11.5"
  }
 },
 "nbformat": 4,
 "nbformat_minor": 5
}
