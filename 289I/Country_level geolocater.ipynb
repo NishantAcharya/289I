{
 "cells": [
  {
   "cell_type": "code",
   "execution_count": 1,
   "id": "7e2835ed",
   "metadata": {},
   "outputs": [],
   "source": [
    "# GeoLite2 Key --> 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"
   ]
  },
  {
   "cell_type": "code",
   "execution_count": 5,
   "id": "2ebaf690",
   "metadata": {},
   "outputs": [
    {
     "name": "stdout",
     "output_type": "stream",
     "text": [
      "Requirement already satisfied: geolite in /Users/nishantacharya/anaconda3/lib/python3.11/site-packages (0.1.0)\n",
      "Requirement already satisfied: mypy<2.0.0,>=1.4.1 in /Users/nishantacharya/anaconda3/lib/python3.11/site-packages (from geolite) (1.8.0)\n",
      "Requirement already satisfied: shapely<3.0.0,>=2.0.1 in /Users/nishantacharya/anaconda3/lib/python3.11/site-packages (from geolite) (2.0.3)\n",
      "Requirement already satisfied: typing-extensions>=4.1.0 in /Users/nishantacharya/anaconda3/lib/python3.11/site-packages (from mypy<2.0.0,>=1.4.1->geolite) (4.7.1)\n",
      "Requirement already satisfied: mypy-extensions>=1.0.0 in /Users/nishantacharya/anaconda3/lib/python3.11/site-packages (from mypy<2.0.0,>=1.4.1->geolite) (1.0.0)\n",
      "Requirement already satisfied: numpy<2,>=1.14 in /Users/nishantacharya/anaconda3/lib/python3.11/site-packages (from shapely<3.0.0,>=2.0.1->geolite) (1.24.3)\n"
     ]
    }
   ],
   "source": [
    "!pip install geolite"
   ]
  },
  {
   "cell_type": "code",
   "execution_count": null,
   "id": "a6cb4167",
   "metadata": {},
   "outputs": [],
   "source": [
    "#Has to be non ambigious, if there are two countries to which a prefix belongs, then we check for a smaller prefix\n",
    "#and then check if"
   ]
  }
 ],
 "metadata": {
  "kernelspec": {
   "display_name": "Python 3 (ipykernel)",
   "language": "python",
   "name": "python3"
  },
  "language_info": {
   "codemirror_mode": {
    "name": "ipython",
    "version": 3
   },
   "file_extension": ".py",
   "mimetype": "text/x-python",
   "name": "python",
   "nbconvert_exporter": "python",
   "pygments_lexer": "ipython3",
   "version": "3.11.5"
  }
 },
 "nbformat": 4,
 "nbformat_minor": 5
}
